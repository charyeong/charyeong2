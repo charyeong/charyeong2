{
 "cells": [
  {
   "cell_type": "code",
   "execution_count": 1,
   "metadata": {},
   "outputs": [],
   "source": [
    "# 분석준비\n",
    "import numpy as np\n",
    "import pandas as pd\n",
    "import scipy as sp\n",
    "from scipy import stats\n",
    "from matplotlib import pyplot as plt\n",
    "import seaborn as sns\n",
    "sns.set()\n",
    "\n",
    "import statsmodels.formula.api as smf\n",
    "import statsmodels.api as sm\n",
    "\n",
    "%precision 3\n",
    "%matplotlib inline"
   ]
  },
  {
   "cell_type": "code",
   "execution_count": 2,
   "metadata": {},
   "outputs": [
    {
     "name": "stdout",
     "output_type": "stream",
     "text": [
      "    hours  result\n",
      "0       0       0\n",
      "1       0       0\n",
      "2       0       0\n",
      "3       0       0\n",
      "4       0       0\n",
      "5       0       0\n",
      "6       0       0\n",
      "7       0       0\n",
      "8       0       0\n",
      "9       0       0\n",
      "10      1       0\n",
      "11      1       0\n",
      "12      1       0\n",
      "13      1       0\n",
      "14      1       0\n",
      "15      1       0\n",
      "16      1       0\n",
      "17      1       0\n",
      "18      1       0\n",
      "19      1       0\n",
      "20      2       0\n",
      "21      2       1\n",
      "22      2       0\n",
      "23      2       0\n",
      "24      2       0\n",
      "25      2       0\n",
      "26      2       0\n",
      "27      2       0\n",
      "28      2       0\n",
      "29      2       0\n",
      "30      3       0\n",
      "31      3       0\n",
      "32      3       1\n",
      "33      3       0\n",
      "34      3       0\n",
      "35      3       0\n",
      "36      3       0\n",
      "37      3       0\n",
      "38      3       0\n",
      "39      3       0\n"
     ]
    }
   ],
   "source": [
    "test_result= pd.read_csv(\"6-3-1-logistic-regression.csv\")\n",
    "print(test_result.head(40))\n",
    "mod_glm=smf.glm(formula=\"result~hours\", data=test_result, family=sm.families.Binomial()).fit()\n",
    "#데이터를 사용해서 로지스틱 회귀모델 추정까지 한번에 한거"
   ]
  },
  {
   "cell_type": "code",
   "execution_count": 3,
   "metadata": {},
   "outputs": [
    {
     "name": "stderr",
     "output_type": "stream",
     "text": [
      "<ipython-input-3-69dbb6379092>:4: DeprecationWarning: scipy.sqrt is deprecated and will be removed in SciPy 2.0.0, use numpy.lib.scimath.sqrt instead\n",
      "  pearson_resid=(y-pred)/sp.sqrt(pred*(1-pred))\n"
     ]
    },
    {
     "data": {
      "text/plain": [
       "0   -0.102351\n",
       "1   -0.102351\n",
       "2   -0.102351\n",
       "Name: result, dtype: float64"
      ]
     },
     "execution_count": 3,
     "metadata": {},
     "output_type": "execute_result"
    }
   ],
   "source": [
    "#이제 잔차를 가지고 회귀식의 최적의 파라미터 값들을 추정한다. 즉, 잔차들의 제곱들을 더한 것(잔차제곱합)을 최소로 만들어주는 파라미터를 찾는 것이다.\n",
    "pred=mod_glm.predict() # 예측 가능한 성공확률\n",
    "y=test_result.result # 종속변수(시험 합불)\n",
    "pearson_resid=(y-pred)/sp.sqrt(pred*(1-pred)) #(피어슨 잔차)\n",
    "pearson_resid.head(3)"
   ]
  },
  {
   "cell_type": "code",
   "execution_count": 4,
   "metadata": {},
   "outputs": [
    {
     "data": {
      "text/plain": [
       "0   -0.102351\n",
       "1   -0.102351\n",
       "2   -0.102351\n",
       "dtype: float64"
      ]
     },
     "execution_count": 4,
     "metadata": {},
     "output_type": "execute_result"
    }
   ],
   "source": [
    "mod_glm.resid_pearson.head(3) #모델에서 직접 얻는거"
   ]
  },
  {
   "cell_type": "code",
   "execution_count": 5,
   "metadata": {},
   "outputs": [
    {
     "name": "stderr",
     "output_type": "stream",
     "text": [
      "<ipython-input-5-6b4eff90a61f>:1: DeprecationWarning: scipy.sum is deprecated and will be removed in SciPy 2.0.0, use numpy.sum instead\n",
      "  sp.sum(mod_glm.resid_pearson**2)\n"
     ]
    },
    {
     "data": {
      "text/plain": [
       "84.91138782569983"
      ]
     },
     "execution_count": 5,
     "metadata": {},
     "output_type": "execute_result"
    }
   ],
   "source": [
    "sp.sum(mod_glm.resid_pearson**2) # 피어슨 잔차제곱합=피어슨 카이제곱통계량"
   ]
  },
  {
   "cell_type": "code",
   "execution_count": 7,
   "metadata": {},
   "outputs": [
    {
     "data": {
      "text/plain": [
       "84.91138782569983"
      ]
     },
     "execution_count": 7,
     "metadata": {},
     "output_type": "execute_result"
    }
   ],
   "source": [
    "mod_glm.pearson_chi2"
   ]
  },
  {
   "cell_type": "code",
   "execution_count": 8,
   "metadata": {},
   "outputs": [
    {
     "name": "stderr",
     "output_type": "stream",
     "text": [
      "<ipython-input-8-9b00702e0738>:3: DeprecationWarning: scipy.log is deprecated and will be removed in SciPy 2.0.0, use numpy.lib.scimath.log instead\n",
      "  resid_tmp = 0-sp.log(sp.stats.binom.pmf(k=y, n=1, p=pred))\n",
      "<ipython-input-8-9b00702e0738>:4: DeprecationWarning: scipy.sqrt is deprecated and will be removed in SciPy 2.0.0, use numpy.lib.scimath.sqrt instead\n",
      "  deviance_resid=sp.sqrt(2*resid_tmp)*np.sign(y-pred)\n"
     ]
    },
    {
     "data": {
      "text/plain": [
       "0   -0.144369\n",
       "1   -0.144369\n",
       "2   -0.144369\n",
       "Name: result, dtype: float64"
      ]
     },
     "execution_count": 8,
     "metadata": {},
     "output_type": "execute_result"
    }
   ],
   "source": [
    "pred=mod_glm.predict()\n",
    "y=test_result.result\n",
    "resid_tmp = 0-sp.log(sp.stats.binom.pmf(k=y, n=1, p=pred)) \n",
    "#합격여부를 완전히 예측할 수 있을 때의 로그우도와 잔차\n",
    "#예) 성공확률 100%일때 합격 확률=1\n",
    "# 그래서 합격여부를 완전히 예측할 수 있을 때의 로그우도는 log(1)이 되기 때문에 항상0이 된다. \n",
    "deviance_resid=sp.sqrt(2*resid_tmp)*np.sign(y-pred) \n",
    "#deviance 잔차(우도비 검정)\n",
    "# resid_tmp를 2배하고 루트값을 얻으면 deviance 잔차가 된다. 그러면 제곱이 deviance와 일치\n",
    "# np.sign은 +/- 기호를 돌려주는 함수.\n",
    "deviance_resid.head(3)"
   ]
  },
  {
   "cell_type": "code",
   "execution_count": 9,
   "metadata": {},
   "outputs": [
    {
     "data": {
      "text/plain": [
       "0   -0.144369\n",
       "1   -0.144369\n",
       "2   -0.144369\n",
       "dtype: float64"
      ]
     },
     "execution_count": 9,
     "metadata": {},
     "output_type": "execute_result"
    }
   ],
   "source": [
    "mod_glm.resid_deviance.head(3)\n",
    "# 모델에서 직접 얻는 것"
   ]
  },
  {
   "cell_type": "code",
   "execution_count": 11,
   "metadata": {},
   "outputs": [
    {
     "name": "stderr",
     "output_type": "stream",
     "text": [
      "<ipython-input-11-42bda98c5217>:1: DeprecationWarning: scipy.sum is deprecated and will be removed in SciPy 2.0.0, use numpy.sum instead\n",
      "  sp.sum(mod_glm.resid_deviance**2)\n"
     ]
    },
    {
     "data": {
      "text/plain": [
       "68.02788118117269"
      ]
     },
     "execution_count": 11,
     "metadata": {},
     "output_type": "execute_result"
    }
   ],
   "source": [
    "sp.sum(mod_glm.resid_deviance**2)"
   ]
  },
  {
   "cell_type": "code",
   "execution_count": null,
   "metadata": {},
   "outputs": [],
   "source": []
  }
 ],
 "metadata": {
  "kernelspec": {
   "display_name": "Python 3",
   "language": "python",
   "name": "python3"
  },
  "language_info": {
   "codemirror_mode": {
    "name": "ipython",
    "version": 3
   },
   "file_extension": ".py",
   "mimetype": "text/x-python",
   "name": "python",
   "nbconvert_exporter": "python",
   "pygments_lexer": "ipython3",
   "version": "3.8.5"
  }
 },
 "nbformat": 4,
 "nbformat_minor": 4
}
