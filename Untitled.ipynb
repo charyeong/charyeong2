{
 "cells": [
  {
   "cell_type": "code",
   "execution_count": 2,
   "metadata": {},
   "outputs": [],
   "source": [
    "# 분석준비\n",
    "import numpy as np\n",
    "import pandas as pd\n",
    "import scipy as sp\n",
    "from scipy import stats\n",
    "from matplotlib import pyplot as plt\n",
    "import seaborn as sns\n",
    "sns.set()\n",
    "\n",
    "# 여기부터\n",
    "import statsmodels.formula.api as smf\n",
    "import statsmodels.api as sm\n",
    "# 여기까지만 달라요!!!!\n",
    "# 통계모델을 추정하는 거래요\n",
    "\n",
    "%precision 3\n",
    "%matplotlib inline"
   ]
  },
  {
   "cell_type": "code",
   "execution_count": 4,
   "metadata": {},
   "outputs": [
    {
     "name": "stdout",
     "output_type": "stream",
     "text": [
      "    hours  result\n",
      "0       0       0\n",
      "1       0       0\n",
      "2       0       0\n",
      "3       0       0\n",
      "4       0       0\n",
      "5       0       0\n",
      "6       0       0\n",
      "7       0       0\n",
      "8       0       0\n",
      "9       0       0\n",
      "10      1       0\n",
      "11      1       0\n",
      "12      1       0\n",
      "13      1       0\n",
      "14      1       0\n",
      "15      1       0\n",
      "16      1       0\n",
      "17      1       0\n",
      "18      1       0\n",
      "19      1       0\n",
      "20      2       0\n",
      "21      2       1\n",
      "22      2       0\n",
      "23      2       0\n",
      "24      2       0\n",
      "25      2       0\n",
      "26      2       0\n",
      "27      2       0\n",
      "28      2       0\n",
      "29      2       0\n",
      "30      3       0\n",
      "31      3       0\n",
      "32      3       1\n",
      "33      3       0\n",
      "34      3       0\n",
      "35      3       0\n",
      "36      3       0\n",
      "37      3       0\n",
      "38      3       0\n",
      "39      3       0\n"
     ]
    }
   ],
   "source": [
    "# hours=공부시간\n",
    "# result=합/불\n",
    "test_result= pd.read_csv(\"6-3-1-logistic-regression.csv\")\n",
    "print(test_result.head(40))\n",
    "#"
   ]
  },
  {
   "cell_type": "code",
   "execution_count": 5,
   "metadata": {},
   "outputs": [
    {
     "data": {
      "text/plain": [
       "<AxesSubplot:xlabel='hours', ylabel='result'>"
      ]
     },
     "execution_count": 5,
     "metadata": {},
     "output_type": "execute_result"
    },
    {
     "data": {
      "image/png": "[encoded data removed]",
      "text/plain": [
       "<Figure size 432x288 with 1 Axes>"
      ]
     },
     "metadata": {
      "needs_background": "light"
     },
     "output_type": "display_data"
    }
   ],
   "source": [
    "sns.barplot(x=\"hours\", y=\"result\", data=test_result, palette='cool_r')\n",
    "#공부시간이 길어지면 합격률이 높아지는거 같죠?"
   ]
  },
  {
   "cell_type": "code",
   "execution_count": 14,
   "metadata": {},
   "outputs": [
    {
     "name": "stdout",
     "output_type": "stream",
     "text": [
      "       result\n",
      "hours        \n",
      "0         0.0\n",
      "1         0.0\n",
      "2         0.1\n",
      "3         0.1\n",
      "4         0.4\n",
      "5         0.4\n",
      "6         0.9\n",
      "7         0.8\n",
      "8         0.9\n",
      "9         1.0\n"
     ]
    }
   ],
   "source": [
    "print(test_result.groupby(\"hours\").mean())\n",
    "#공부시간마다 합격률은?\n",
    "#1시간 이하로 공부한 사람은 합격x 반대로 9시간 이상은 전부 합격"
   ]
  },
  {
   "cell_type": "code",
   "execution_count": 6,
   "metadata": {},
   "outputs": [],
   "source": [
    "mod_glm=smf.glm(formula=\"result~hours\", data=test_result, family=sm.families.Binomial()).fit()\n",
    "#smf.glm함수로 일반선형모델을 추정\n",
    "#첫 번째 파라미터\"result~hours\"는 formula이다. 정규분포와 똑같이 쓴다.종속변수가 result, 독립변수가 hours (독립변수가 여러개면 +로 연결!)\n",
    "#두 번째 파라미터 데이터를 pandas 데이터프레임으로 지정한다.\n",
    "#세 번째 파라미터에는 확률분포를 지정한다. 이항분포니까 sm.families.Binomial()임 푸아송은 sm.families.Poisson()\n",
    "#링크함수는 이항분포로 지정했을 때 기본적으로 로짓함수가 지정. 확률분포에 따라 자동으로 바뀜\n"
   ]
  },
  {
   "cell_type": "code",
   "execution_count": 17,
   "metadata": {},
   "outputs": [
    {
     "data": {
      "text/html": [
       "<table class=\"simpletable\">\n",
       "<caption>Generalized Linear Model Regression Results</caption>\n",
       "<tr>\n",
       "  <th>Dep. Variable:</th>        <td>result</td>      <th>  No. Observations:  </th>  <td>   100</td> \n",
       "</tr>\n",
       "<tr>\n",
       "  <th>Model:</th>                  <td>GLM</td>       <th>  Df Residuals:      </th>  <td>    98</td> \n",
       "</tr>\n",
       "<tr>\n",
       "  <th>Model Family:</th>        <td>Binomial</td>     <th>  Df Model:          </th>  <td>     1</td> \n",
       "</tr>\n",
       "<tr>\n",
       "  <th>Link Function:</th>         <td>logit</td>      <th>  Scale:             </th> <td>  1.0000</td>\n",
       "</tr>\n",
       "<tr>\n",
       "  <th>Method:</th>                <td>IRLS</td>       <th>  Log-Likelihood:    </th> <td> -34.014</td>\n",
       "</tr>\n",
       "<tr>\n",
       "  <th>Date:</th>            <td>Thu, 06 May 2021</td> <th>  Deviance:          </th> <td>  68.028</td>\n",
       "</tr>\n",
       "<tr>\n",
       "  <th>Time:</th>                <td>01:47:31</td>     <th>  Pearson chi2:      </th>  <td>  84.9</td> \n",
       "</tr>\n",
       "<tr>\n",
       "  <th>No. Iterations:</th>          <td>6</td>        <th>                     </th>     <td> </td>   \n",
       "</tr>\n",
       "<tr>\n",
       "  <th>Covariance Type:</th>     <td>nonrobust</td>    <th>                     </th>     <td> </td>   \n",
       "</tr>\n",
       "</table>\n",
       "<table class=\"simpletable\">\n",
       "<tr>\n",
       "      <td></td>         <th>coef</th>     <th>std err</th>      <th>z</th>      <th>P>|z|</th>  <th>[0.025</th>    <th>0.975]</th>  \n",
       "</tr>\n",
       "<tr>\n",
       "  <th>Intercept</th> <td>   -4.5587</td> <td>    0.901</td> <td>   -5.061</td> <td> 0.000</td> <td>   -6.324</td> <td>   -2.793</td>\n",
       "</tr>\n",
       "<tr>\n",
       "  <th>hours</th>     <td>    0.9289</td> <td>    0.174</td> <td>    5.345</td> <td> 0.000</td> <td>    0.588</td> <td>    1.270</td>\n",
       "</tr>\n",
       "</table>"
      ],
      "text/plain": [
       "<class 'statsmodels.iolib.summary.Summary'>\n",
       "\"\"\"\n",
       "                 Generalized Linear Model Regression Results                  \n",
       "==============================================================================\n",
       "Dep. Variable:                 result   No. Observations:                  100\n",
       "Model:                            GLM   Df Residuals:                       98\n",
       "Model Family:                Binomial   Df Model:                            1\n",
       "Link Function:                  logit   Scale:                          1.0000\n",
       "Method:                          IRLS   Log-Likelihood:                -34.014\n",
       "Date:                Thu, 06 May 2021   Deviance:                       68.028\n",
       "Time:                        01:47:31   Pearson chi2:                     84.9\n",
       "No. Iterations:                     6                                         \n",
       "Covariance Type:            nonrobust                                         \n",
       "==============================================================================\n",
       "                 coef    std err          z      P>|z|      [0.025      0.975]\n",
       "------------------------------------------------------------------------------\n",
       "Intercept     -4.5587      0.901     -5.061      0.000      -6.324      -2.793\n",
       "hours          0.9289      0.174      5.345      0.000       0.588       1.270\n",
       "==============================================================================\n",
       "\"\"\""
      ]
     },
     "execution_count": 17,
     "metadata": {},
     "output_type": "execute_result"
    }
   ],
   "source": [
    "mod_glm.summary()\n",
    "\n",
    "\n",
    "#Iterative Reweighted Least Squares(최소제곱법)=IRLS\n",
    "#No.Iterations\n",
    "#Deviance 랑 Pearson chi2 인 지표2개는 모델의 적합도를 나타내는 지표이다.\n",
    "#계수는 t검정 대신 Wald 검정 결과가 출력, 공부시간의 계수는 양수\n"
   ]
  },
  {
   "cell_type": "code",
   "execution_count": 7,
   "metadata": {},
   "outputs": [
    {
     "name": "stdout",
     "output_type": "stream",
     "text": [
      "Null 모델       : 139.989\n",
      "변수가 있는 모델: 72.028\n"
     ]
    }
   ],
   "source": [
    "#AIC를 사용해서 Null모델과 (공부시간) 독립변수가 있는 모델 중 \n",
    "#어느 쪽이 좋은 모델인지 비교.\n",
    "mod_glm_null=smf.glm(\"result~1\", data=test_result, family=sm.families.Binomial()).fit()\n",
    "print(\"Null 모델       :\", mod_glm_null.aic.round(3))\n",
    "print(\"변수가 있는 모델:\", mod_glm.aic.round(3))\n",
    "#AIC가 작은게 합격률을 예측하는 데 도움이 된다!!!!\n",
    "# 공부시간의 계수가 양수였던 점도 감안하면 공부시간을 늘리면 합격률이 오른다고 판단해도 될듯"
   ]
  },
  {
   "cell_type": "code",
   "execution_count": 24,
   "metadata": {},
   "outputs": [
    {
     "data": {
      "text/plain": [
       "<seaborn.axisgrid.FacetGrid at 0x1a3bc2fa670>"
      ]
     },
     "execution_count": 24,
     "metadata": {},
     "output_type": "execute_result"
    },
    {
     "data": {
      "image/png": "[encoded data removed]",
      "text/plain": [
       "<Figure size 360x360 with 1 Axes>"
      ]
     },
     "metadata": {
      "needs_background": "light"
     },
     "output_type": "display_data"
    }
   ],
   "source": [
    "sns.lmplot(x=\"hours\", y=\"result\", data=test_result, logistic=True, scatter_kws={\"color\":\"black\"}, line_kws={\"color\": \"black\"}, x_jitter=0.1, y_jitter=0.02)\n",
    "#가로축이 공부시간\n",
    "#세로축이 합격 여부\n",
    "#이항확률변수를 지정한 산포도를 그리고 이론상의 합격률을 곂친다.\n",
    "#seaborn의 lmpolot함수에 파라미터를 logistic=True로 넘겨서 그린다.\n",
    "#x_jitter와 y_jitter는 산포도가 그리는 데이터의 점을 조금 위아래로 흩어지게 하는 설정"
   ]
  },
  {
   "cell_type": "code",
   "execution_count": 8,
   "metadata": {},
   "outputs": [
    {
     "data": {
      "text/plain": [
       "0    0.010367\n",
       "1    0.025836\n",
       "2    0.062920\n",
       "3    0.145291\n",
       "4    0.300876\n",
       "5    0.521427\n",
       "6    0.733929\n",
       "7    0.874741\n",
       "8    0.946467\n",
       "9    0.978147\n",
       "dtype: float64"
      ]
     },
     "execution_count": 8,
     "metadata": {},
     "output_type": "execute_result"
    }
   ],
   "source": [
    "exp_val=pd.DataFrame({\"hours\":np.arange(0,10,1)})\n",
    "pred=mod_glm.predict(exp_val)\n",
    "pred\n",
    "#합격률을 수치로 얻는거\n",
    "#0이나1로 예측하고 싶으면 소수점 첫째자리에서 반올림해서 0.5가 넘으면 합격으로 처리"
   ]
  },
  {
   "cell_type": "code",
   "execution_count": 10,
   "metadata": {},
   "outputs": [
    {
     "name": "stderr",
     "output_type": "stream",
     "text": [
      "<ipython-input-10-9adfd9dfd1a0>:9: DeprecationWarning: scipy.log is deprecated and will be removed in SciPy 2.0.0, use numpy.lib.scimath.log instead\n",
      "  sp.log(odds_2/odds_1)\n"
     ]
    },
    {
     "data": {
      "text/plain": [
       "array([0.929])"
      ]
     },
     "execution_count": 10,
     "metadata": {},
     "output_type": "execute_result"
    }
   ],
   "source": [
    "#공부시간이 1,2시간일 때의 합격률\n",
    "exp_val_1=pd.DataFrame({\"hours\":[1]})\n",
    "pred_1=mod_glm.predict(exp_val_1)\n",
    "exp_val_2=pd.DataFrame({\"hours\":[2]})\n",
    "pred_2=mod_glm.predict(exp_val_2)\n",
    "\n",
    "odds_1=pred_1/(1-pred_1)\n",
    "odds_2=pred_2/(1-pred_2) #오즈\n",
    "sp.log(odds_2/odds_1) #로그오즈비"
   ]
  },
  {
   "cell_type": "code",
   "execution_count": 11,
   "metadata": {},
   "outputs": [
    {
     "data": {
      "text/plain": [
       "0.9288901756284953"
      ]
     },
     "execution_count": 11,
     "metadata": {},
     "output_type": "execute_result"
    }
   ],
   "source": [
    "mod_glm.params[\"hours\"] # 로그오즈비가 공부시간의 계수와 일치한다."
   ]
  },
  {
   "cell_type": "code",
   "execution_count": 12,
   "metadata": {},
   "outputs": [
    {
     "name": "stderr",
     "output_type": "stream",
     "text": [
      "<ipython-input-12-b5475642cd5c>:1: DeprecationWarning: scipy.exp is deprecated and will be removed in SciPy 2.0.0, use numpy.exp instead\n",
      "  sp.exp(mod_glm.params[\"hours\"])\n"
     ]
    },
    {
     "data": {
      "text/plain": [
       "2.5316978778757755"
      ]
     },
     "execution_count": 12,
     "metadata": {},
     "output_type": "execute_result"
    }
   ],
   "source": [
    "sp.exp(mod_glm.params[\"hours\"]) #계수에 exp를 취한 게 오즈비"
   ]
  },
  {
   "cell_type": "code",
   "execution_count": null,
   "metadata": {},
   "outputs": [],
   "source": []
  }
 ],
 "metadata": {
  "kernelspec": {
   "display_name": "Python 3",
   "language": "python",
   "name": "python3"
  },
  "language_info": {
   "codemirror_mode": {
    "name": "ipython",
    "version": 3
   },
   "file_extension": ".py",
   "mimetype": "text/x-python",
   "name": "python",
   "nbconvert_exporter": "python",
   "pygments_lexer": "ipython3",
   "version": "3.8.5"
  }
 },
 "nbformat": 4,
 "nbformat_minor": 4
}
