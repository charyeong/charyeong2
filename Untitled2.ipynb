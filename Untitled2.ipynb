{
 "cells": [
  {
   "cell_type": "code",
   "execution_count": 1,
   "metadata": {},
   "outputs": [],
   "source": [
    "# 분석준비\n",
    "import numpy as np\n",
    "import pandas as pd\n",
    "import scipy as sp\n",
    "from scipy import stats\n",
    "\n",
    "from matplotlib import pyplot as plt\n",
    "import seaborn as sns\n",
    "sns.set()\n",
    "\n",
    "import statsmodels.formula.api as smf\n",
    "import statsmodels.api as sm\n",
    "\n",
    "%precision 3\n",
    "%matplotlib inline"
   ]
  },
  {
   "cell_type": "code",
   "execution_count": 2,
   "metadata": {},
   "outputs": [
    {
     "name": "stdout",
     "output_type": "stream",
     "text": [
      "   beer_number  temperature\n",
      "0            6         17.5\n",
      "1           11         26.6\n",
      "2            2          5.0\n"
     ]
    }
   ],
   "source": [
    "beer=pd.read_csv(\"6-5-1-poisson-regression.csv\")\n",
    "print(beer.head(3))"
   ]
  },
  {
   "cell_type": "code",
   "execution_count": 3,
   "metadata": {},
   "outputs": [
    {
     "data": {
      "text/html": [
       "<table class=\"simpletable\">\n",
       "<caption>Generalized Linear Model Regression Results</caption>\n",
       "<tr>\n",
       "  <th>Dep. Variable:</th>      <td>beer_number</td>   <th>  No. Observations:  </th>  <td>    30</td> \n",
       "</tr>\n",
       "<tr>\n",
       "  <th>Model:</th>                  <td>GLM</td>       <th>  Df Residuals:      </th>  <td>    28</td> \n",
       "</tr>\n",
       "<tr>\n",
       "  <th>Model Family:</th>         <td>Poisson</td>     <th>  Df Model:          </th>  <td>     1</td> \n",
       "</tr>\n",
       "<tr>\n",
       "  <th>Link Function:</th>          <td>log</td>       <th>  Scale:             </th> <td>  1.0000</td>\n",
       "</tr>\n",
       "<tr>\n",
       "  <th>Method:</th>                <td>IRLS</td>       <th>  Log-Likelihood:    </th> <td> -57.672</td>\n",
       "</tr>\n",
       "<tr>\n",
       "  <th>Date:</th>            <td>Thu, 06 May 2021</td> <th>  Deviance:          </th> <td>  5.1373</td>\n",
       "</tr>\n",
       "<tr>\n",
       "  <th>Time:</th>                <td>04:36:15</td>     <th>  Pearson chi2:      </th>  <td>  5.40</td> \n",
       "</tr>\n",
       "<tr>\n",
       "  <th>No. Iterations:</th>          <td>4</td>        <th>                     </th>     <td> </td>   \n",
       "</tr>\n",
       "<tr>\n",
       "  <th>Covariance Type:</th>     <td>nonrobust</td>    <th>                     </th>     <td> </td>   \n",
       "</tr>\n",
       "</table>\n",
       "<table class=\"simpletable\">\n",
       "<tr>\n",
       "       <td></td>          <th>coef</th>     <th>std err</th>      <th>z</th>      <th>P>|z|</th>  <th>[0.025</th>    <th>0.975]</th>  \n",
       "</tr>\n",
       "<tr>\n",
       "  <th>Intercept</th>   <td>    0.4476</td> <td>    0.199</td> <td>    2.253</td> <td> 0.024</td> <td>    0.058</td> <td>    0.837</td>\n",
       "</tr>\n",
       "<tr>\n",
       "  <th>temperature</th> <td>    0.0761</td> <td>    0.008</td> <td>    9.784</td> <td> 0.000</td> <td>    0.061</td> <td>    0.091</td>\n",
       "</tr>\n",
       "</table>"
      ],
      "text/plain": [
       "<class 'statsmodels.iolib.summary.Summary'>\n",
       "\"\"\"\n",
       "                 Generalized Linear Model Regression Results                  \n",
       "==============================================================================\n",
       "Dep. Variable:            beer_number   No. Observations:                   30\n",
       "Model:                            GLM   Df Residuals:                       28\n",
       "Model Family:                 Poisson   Df Model:                            1\n",
       "Link Function:                    log   Scale:                          1.0000\n",
       "Method:                          IRLS   Log-Likelihood:                -57.672\n",
       "Date:                Thu, 06 May 2021   Deviance:                       5.1373\n",
       "Time:                        04:36:15   Pearson chi2:                     5.40\n",
       "No. Iterations:                     4                                         \n",
       "Covariance Type:            nonrobust                                         \n",
       "===============================================================================\n",
       "                  coef    std err          z      P>|z|      [0.025      0.975]\n",
       "-------------------------------------------------------------------------------\n",
       "Intercept       0.4476      0.199      2.253      0.024       0.058       0.837\n",
       "temperature     0.0761      0.008      9.784      0.000       0.061       0.091\n",
       "===============================================================================\n",
       "\"\"\""
      ]
     },
     "execution_count": 3,
     "metadata": {},
     "output_type": "execute_result"
    }
   ],
   "source": [
    "mod_pois=smf.glm(\"beer_number ~ temperature\", beer, family=sm.families.Poisson()).fit()\n",
    "mod_pois.summary()\n",
    "#기온의 계수(coef)를 보면 양의 값으로 되어 있다. 기온이 오르면 판매도 오를것."
   ]
  },
  {
   "cell_type": "code",
   "execution_count": 4,
   "metadata": {},
   "outputs": [
    {
     "name": "stdout",
     "output_type": "stream",
     "text": [
      "Null모델        : 223.363\n",
      "변수가 있는 모델: 119.343\n"
     ]
    }
   ],
   "source": [
    "#AIC를 사용해서 모델을 선택\n",
    "mod_pois_null=smf.glm(\"beer_number ~ 1\",data=beer, family=sm.families.Poisson()).fit()\n",
    "print(\"Null모델        :\", mod_pois_null.aic.round(3))\n",
    "print(\"변수가 있는 모델:\", mod_pois.aic.round(3))\n",
    "#독립변수가 들어간 모델의 AIC가 작다. 이는 독립변수가 필요하다는 뜻"
   ]
  },
  {
   "cell_type": "code",
   "execution_count": 6,
   "metadata": {},
   "outputs": [
    {
     "data": {
      "text/plain": [
       "[<matplotlib.lines.Line2D at 0x24a50cf5fd0>]"
      ]
     },
     "execution_count": 6,
     "metadata": {},
     "output_type": "execute_result"
    },
    {
     "data": {
      "image/png": "[encoded data removed]",
      "text/plain": [
       "<Figure size 360x360 with 1 Axes>"
      ]
     },
     "metadata": {
      "needs_background": "light"
     },
     "output_type": "display_data"
    }
   ],
   "source": [
    "#회귀곡선 그래프\n",
    "#푸아송 회귀는 seaborn 함수로 그릴 수 없어서 \n",
    "#추정된 모델의 예측값을 산포도 위에 덧그린다.\n",
    "x_plot=np.arange(0,37)\n",
    "pred=mod_pois.predict(pd.DataFrame({\"temperature\":x_plot})) #예측값\n",
    "sns.lmplot(y=\"beer_number\", x=\"temperature\", data=beer, fit_reg=False, scatter_kws={\"color\":\"black\"})\n",
    "#회귀곡선 없는 lmplot\n",
    "plt.plot(x_plot, pred, color=\"black\") #회귀곡선 덧그리기"
   ]
  },
  {
   "cell_type": "code",
   "execution_count": 7,
   "metadata": {},
   "outputs": [
    {
     "data": {
      "text/plain": [
       "0    1.079045\n",
       "dtype: float64"
      ]
     },
     "execution_count": 7,
     "metadata": {},
     "output_type": "execute_result"
    }
   ],
   "source": [
    "#회귀계수 해석\n",
    "#로그함수니까 덧셈-> 곱셈!!\n",
    "#즉, 1도오르면 매출이 X원 오르는게 아니라 Y배가 된다. \n",
    "exp_val_1=pd.DataFrame({\"temperature\":[1]})\n",
    "pred_1=mod_pois.predict(exp_val_1)\n",
    "exp_val_2=pd.DataFrame({\"temperature\":[2]})\n",
    "pred_2=mod_pois.predict(exp_val_2)\n",
    "#각각 기온이1,2 도 일 때의 판매 개수의 기댓값\n",
    "\n",
    "pred_2/pred_1 #기온이 1도에서 1도 오르면 판매 개수는 몇 배가 되는지"
   ]
  },
  {
   "cell_type": "code",
   "execution_count": 8,
   "metadata": {},
   "outputs": [
    {
     "name": "stderr",
     "output_type": "stream",
     "text": [
      "<ipython-input-8-46b53f7a02bd>:1: DeprecationWarning: scipy.exp is deprecated and will be removed in SciPy 2.0.0, use numpy.exp instead\n",
      "  sp.exp(mod_pois.params[\"temperature\"])\n"
     ]
    },
    {
     "data": {
      "text/plain": [
       "1.079045054586893"
      ]
     },
     "execution_count": 8,
     "metadata": {},
     "output_type": "execute_result"
    }
   ],
   "source": [
    "#회귀계수에 exp를 취한 값과 동일하다\n",
    "sp.exp(mod_pois.params[\"temperature\"])"
   ]
  },
  {
   "cell_type": "code",
   "execution_count": null,
   "metadata": {},
   "outputs": [],
   "source": []
  }
 ],
 "metadata": {
  "kernelspec": {
   "display_name": "Python 3",
   "language": "python",
   "name": "python3"
  },
  "language_info": {
   "codemirror_mode": {
    "name": "ipython",
    "version": 3
   },
   "file_extension": ".py",
   "mimetype": "text/x-python",
   "name": "python",
   "nbconvert_exporter": "python",
   "pygments_lexer": "ipython3",
   "version": "3.8.5"
  }
 },
 "nbformat": 4,
 "nbformat_minor": 4
}
